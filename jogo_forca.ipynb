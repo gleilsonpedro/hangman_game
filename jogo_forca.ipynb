{
 "cells": [
  {
   "cell_type": "code",
   "execution_count": 1,
   "metadata": {},
   "outputs": [
    {
     "name": "stdout",
     "output_type": "stream",
     "text": [
      "rato\n",
      "a ← digitados | Parabéns, Acertou!\n",
      "_ A _ _\n",
      "as ← digitados | Ah não! Você errou!\n",
      "*** Atenção! Você tem 1 de 3. ***\n",
      "_ A _ _\n",
      "asr ← digitados | Parabéns, Acertou!\n",
      "R A _ _\n",
      "Por gentileza digite somente letras!\n",
      "Por gentileza digite somente letras!\n",
      "Por gentileza digite somente letras!\n",
      "asrt ← digitados | Parabéns, Acertou!\n",
      "R A T _\n",
      "asrtz ← digitados | Ah não! Você errou!\n",
      "*** Atenção! Você tem 2 de 3. ***\n",
      "R A T _\n",
      "asrtzç ← digitados | Ah não! Você errou!\n",
      "*** Atenção! Você tem 3 de 3. ***\n",
      "R A T _\n",
      "\n",
      "    |--------------------------------------------|\n",
      "    | #### (\\) _ATENÇÃO IMAGENS FORTES_ (\\) ####w\n",
      "    ç |\n",
      "    |--------------------------------------------|\n",
      "    | ________                                   |\n",
      "    | |/      |          (\\  _  /)               |\n",
      "    | |      ෴         ( \\( )/ )    já éra!!!  |\n",
      "    | |     {•̃_•̃}        (       )    partiu!!!  |\n",
      "    | |     /| |\\         `>   <'                |\n",
      "    | |      / \\          /     \\      (* -_-)   |\n",
      "    | |______________     `-._.-'                |\n",
      "    |--------------------------------------------|\n",
      "    |                 END GAME                   |\n",
      "    |--------------------------------------------|\n",
      "A Palavra selecionada foi: RATO\n"
     ]
    }
   ],
   "source": [
    "#tentativa 3\n",
    "%reset -f \n",
    "import random\n",
    "palavras = ['rato','gato','mesa','sala']\n",
    "palavra = random.choice(palavras)\n",
    "print(palavra)\n",
    "tentativas = 0\n",
    "letras_digitadas = []\n",
    "estado_atual = ['_']*len(palavra)\n",
    "\n",
    "while tentativas < 3 and ''.join(estado_atual) != palavra:\n",
    "    letra = input(\"Insira uma letra ou 'SAIR': \").lower()\n",
    "    if letra == 'sair':\n",
    "        break\n",
    "    elif letra in letras_digitadas:\n",
    "        print('Esta letra ja foi digitada! ')\n",
    "        continue\n",
    "    elif letra.isalpha() == False:\n",
    "        print('Por gentileza digite somente letras!')\n",
    "        continue\n",
    "\n",
    "    letras_digitadas.append(letra)\n",
    "    resposta = (''.join(letras_digitadas)) \n",
    "    if letra in palavra:\n",
    "        print(f\"{resposta} ← digitados | Parabéns, Acertou!\")\n",
    "        for i in range(len(palavra)): #para cada letra na contagem do indice das palavras\n",
    "            if letra == palavra[i]:\n",
    "                estado_atual[i] = letra\n",
    "    else:\n",
    "        print(f\"{resposta} ← digitados | Ah não! Você errou!\")\n",
    "        tentativas += 1\n",
    "        print(f'*** Atenção! Você tem {tentativas} de 3. ***')\n",
    "    \n",
    "    print(' '.join(estado_atual).upper())\n",
    "if tentativas == 3:\n",
    "    print('''\n",
    "    |--------------------------------------------|\n",
    "    | #### (\\) _ATENÇÃO IMAGENS FORTES_ (\\) #### |\n",
    "    |--------------------------------------------|\n",
    "    | ________                                   |\n",
    "    | |/      |          (\\  _  /)               |\n",
    "    | |      ෴         ( \\( )/ )    já éra!!!  |\n",
    "    | |     {•̃_•̃}        (       )    partiu!!!  |\n",
    "    | |     /| |\\\\         `>   <'                |\n",
    "    | |      / \\          /     \\      (* -_-)   |\n",
    "    | |______________     `-._.-'                |\n",
    "    |--------------------------------------------|\n",
    "    |                 END GAME                   |\n",
    "    |--------------------------------------------|''')\n",
    "elif ''.join(estado_atual) != palavra:\n",
    "    print(f'Você escolheu SAIR do programa')\n",
    "else:\n",
    "    print('\\nParabèns! você não foi enforcado!')\n",
    "print(f'A Palavra selecionada foi: {palavra.upper()}')\n",
    "\n",
    "#depois de jogar tem que zerar as variáveis\n"
   ]
  }
 ],
 "metadata": {
  "kernelspec": {
   "display_name": "Python 3.10.5 64-bit",
   "language": "python",
   "name": "python3"
  },
  "language_info": {
   "codemirror_mode": {
    "name": "ipython",
    "version": 3
   },
   "file_extension": ".py",
   "mimetype": "text/x-python",
   "name": "python",
   "nbconvert_exporter": "python",
   "pygments_lexer": "ipython3",
   "version": "3.10.5"
  },
  "orig_nbformat": 4,
  "vscode": {
   "interpreter": {
    "hash": "479a612002619efeaede023ca7692c2d29642ea615c064262f25205b1aac33b3"
   }
  }
 },
 "nbformat": 4,
 "nbformat_minor": 2
}
